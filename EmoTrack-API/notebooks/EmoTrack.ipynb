{
 "cells": [
  {
   "cell_type": "code",
   "execution_count": null,
   "metadata": {},
   "outputs": [],
   "source": [
    "import requests\n",
    "\n",
    "from dotenv import load_dotenv\n",
    "import os\n",
    "\n",
    "load_dotenv()\n",
    "\n",
    "hugging_face_api_key = os.getenv('HUGGING_FACE_API_KEY')\n",
    "\n",
    "API_URL = \"https://api-inference.huggingface.co/models/jonatasgrosman/wav2vec2-large-xlsr-53-english\"\n",
    "headers = {\"Authorization\": \"Bearer \"}\n",
    "headers[\"Authorization\"] += hugging_face_api_key\n",
    "\n",
    "def query(filename):\n",
    "    with open(filename, \"rb\") as f:\n",
    "        data = f.read()\n",
    "    response = requests.post(API_URL, headers=headers, data=data)\n",
    "    return response.json()\n",
    "\n",
    "output = query(\"sample.flac\")\n",
    "\n",
    "print(output)"
   ]
  },
  {
   "cell_type": "code",
   "execution_count": null,
   "metadata": {},
   "outputs": [],
   "source": [
    "import pandas as pd\n",
    "import numpy as np\n",
    "from datetime import datetime\n",
    "import joblib\n",
    "\n",
    "# Load Model\n",
    "pipe_lr = joblib.load(open(\"./models/emotion_classifier_pipe_lr.pkl\", \"rb\"))\n",
    "\n",
    "# Function\n",
    "def predict_emotions(docx):\n",
    "    results = pipe_lr.predict([docx])\n",
    "    return results[0]\n",
    "\n",
    "def get_prediction_proba(docx):\n",
    "    results = pipe_lr.predict_proba([docx])\n",
    "    return results\n",
    "\n",
    "emotions_emoji_dict = {\"anger\": \"😠\", \"disgust\": \"🤮\", \"fear\": \"😨😱\", \"happy\": \"🤗\", \"joy\": \"😂\", \"neutral\": \"😐\", \"sad\": \"😔\", \"sadness\": \"😔\", \"shame\": \"😳\", \"surprise\": \"😮\"}\n",
    "\n",
    "# Main Application\n",
    "def main():\n",
    "    print(\"Welcome to Emotion Detection in Text\")\n",
    "    raw_text = input(\"Type Here: \")\n",
    "    \n",
    "    prediction = predict_emotions(raw_text)\n",
    "    probability = get_prediction_proba(raw_text)\n",
    "    \n",
    "    \n",
    "    print(\"\\nOriginal Text:\")\n",
    "    print(raw_text)\n",
    "    print(\"\\nPrediction:\")\n",
    "    emoji_icon = emotions_emoji_dict[prediction]\n",
    "    print(\"{}:{}\".format(prediction, emoji_icon))\n",
    "    print(\"Confidence:{}\".format(np.max(probability)))\n",
    "    \n",
    "    print(\"\\nPrediction Probability:\")\n",
    "    proba_df = pd.DataFrame(probability, columns=pipe_lr.classes_)\n",
    "    proba_df_clean = proba_df.T.reset_index()\n",
    "    proba_df_clean.columns = [\"emotions\", \"probability\"]\n",
    "    print(proba_df_clean)\n",
    "\n",
    "if __name__ == '__main__':\n",
    "    main()"
   ]
  }
 ],
 "metadata": {
  "kernelspec": {
   "display_name": "venv",
   "language": "python",
   "name": "python3"
  },
  "language_info": {
   "name": "python",
   "version": "3.11.4"
  }
 },
 "nbformat": 4,
 "nbformat_minor": 2
}
