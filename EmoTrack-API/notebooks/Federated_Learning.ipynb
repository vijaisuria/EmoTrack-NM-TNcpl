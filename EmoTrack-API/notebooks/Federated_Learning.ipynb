{
 "cells": [
  {
   "cell_type": "markdown",
   "metadata": {},
   "source": [
    "# Federated Learning\n",
    "\n",
    "The Federated Emotion Analysis Model is a cutting-edge approach to emotion detection that leverages federated learning techniques. Unlike traditional centralized models, federated learning allows for the training and updating of machine learning models directly on user devices, ensuring privacy, continuous learning, and user engagement."
   ]
  },
  {
   "cell_type": "markdown",
   "metadata": {},
   "source": [
    "## Advantages and Feasibility:\n",
    "\n",
    "1. **Privacy Benefits:** By training the model directly on user devices, sensitive user data remains on the device and is not sent to a central server. This ensures user privacy and data security, making it an attractive option for applications handling sensitive information.\n",
    "2. **Continuous Learning:** The model continuously learns and adapts based on user interactions and feedback. This ensures that the model stays relevant and up-to-date with evolving user behavior and language patterns.\n",
    "3. **User Interaction and Feedback Mechanism:** Users actively participate in the model training process by providing feedback on the detected emotions. This fosters user engagement and creates a more personalized experience.\n",
    "4. **Localized Data Processing:** By conducting model training and updates on user devices, the need to transfer sensitive data to a central server is eliminated. This localized processing minimizes data exposure and reduces the risk of unauthorized access or breaches.\n",
    "5. **Reduced Communication Overhead:** Federated learning distributes model updates across multiple devices, reducing the burden on centralized infrastructure and mitigating communication overhead. This results in improved scalability and efficiency, particularly in resource-constrained environments.\n",
    "6. **Customization and Personalization:** The decentralized nature of federated learning allows for tailored model updates based on individual user experiences and preferences. This enables the delivery of personalized emotion detection capabilities that better align with diverse user needs and contexts."
   ]
  },
  {
   "cell_type": "markdown",
   "metadata": {},
   "source": [
    "# EmoTrack Implementation: Protype for Federated learning "
   ]
  },
  {
   "cell_type": "code",
   "execution_count": 1,
   "metadata": {},
   "outputs": [
    {
     "name": "stdout",
     "output_type": "stream",
     "text": [
      "\u001b[31mERROR: pip's dependency resolver does not currently take into account all the packages that are installed. This behaviour is the source of the following dependency conflicts.\n",
      "gensim 4.3.0 requires FuzzyTM>=0.4.0, which is not installed.\n",
      "trie 2.0.0a5 requires typing-extensions<4,>=3.7.4, but you have typing-extensions 4.5.0 which is incompatible.\n",
      "mythx-models 2.2.0 requires jsonschema==3.2.0, but you have jsonschema 4.19.2 which is incompatible.\n",
      "mythx-models 2.2.0 requires python-dateutil==2.8.1, but you have python-dateutil 2.9.0.post0 which is incompatible.\n",
      "pythx 1.7.3 requires PyJWT==1.7.1, but you have pyjwt 2.8.0 which is incompatible.\n",
      "pythx 1.7.3 requires python-dateutil==2.8.1, but you have python-dateutil 2.9.0.post0 which is incompatible.\n",
      "pythx 1.7.3 requires requests==2.25.1, but you have requests 2.31.0 which is incompatible.\n",
      "mypy 1.8.0 requires mypy-extensions>=1.0.0, but you have mypy-extensions 0.4.4 which is incompatible.\n",
      "conda 24.1.2 requires packaging>=23.0, but you have packaging 22.0 which is incompatible.\n",
      "conda 24.1.2 requires platformdirs>=3.10.0, but you have platformdirs 3.5.1 which is incompatible.\u001b[0m\u001b[31m\n",
      "\u001b[0m\n",
      "\u001b[1m[\u001b[0m\u001b[34;49mnotice\u001b[0m\u001b[1;39;49m]\u001b[0m\u001b[39;49m A new release of pip available: \u001b[0m\u001b[31;49m22.3.1\u001b[0m\u001b[39;49m -> \u001b[0m\u001b[32;49m24.0\u001b[0m\n",
      "\u001b[1m[\u001b[0m\u001b[34;49mnotice\u001b[0m\u001b[1;39;49m]\u001b[0m\u001b[39;49m To update, run: \u001b[0m\u001b[32;49mpip install --upgrade pip\u001b[0m\n",
      "Note: you may need to restart the kernel to use updated packages.\n"
     ]
    }
   ],
   "source": [
    "pip install --quiet --upgrade tensorflow-federated"
   ]
  },
  {
   "cell_type": "code",
   "execution_count": null,
   "metadata": {},
   "outputs": [],
   "source": [
    "import collections\n",
    "\n",
    "import numpy as np\n",
    "import tensorflow as tf\n",
    "import tensorflow_federated as tff\n",
    "\n",
    "import sqlite3\n",
    "import pickle\n",
    "import os"
   ]
  },
  {
   "cell_type": "code",
   "execution_count": null,
   "metadata": {},
   "outputs": [],
   "source": [
    "# Connect to SQLite database\n",
    "conn = sqlite3.connect('user_model.db')\n",
    "cursor = conn.cursor()"
   ]
  },
  {
   "cell_type": "markdown",
   "metadata": {},
   "source": [
    "## Initial Model Distribution\n",
    "\n",
    "* Load the trained global model from the .pkl file.\n",
    "* Distribute this model to the client devices upon installation of the app."
   ]
  },
  {
   "cell_type": "code",
   "execution_count": null,
   "metadata": {},
   "outputs": [],
   "source": [
    "# Function to load the global model from .pkl file\n",
    "def load_global_model(pkl_file_path):\n",
    "    with open(pkl_file_path, 'rb') as file:\n",
    "        global_model = pickle.load(file)\n",
    "    return global_model\n",
    "\n",
    "# Function to distribute the global model to client devices\n",
    "def distribute_model_to_clients(global_model, client_devices):\n",
    "    for device_id in client_devices:\n",
    "        # Example: Save the model to each client's directory\n",
    "        client_model_path = f'client_{device_id}_model.pkl'\n",
    "        with open(client_model_path, 'wb') as file:\n",
    "            pickle.dump(global_model, file)\n",
    "        print(f\"Global model distributed to client {device_id}\")\n",
    "\n",
    "# Function to create SQLite database table for user emotion analysis\n",
    "def create_user_model_table(database_path, table_name):\n",
    "    conn = sqlite3.connect(database_path)\n",
    "    cursor = conn.cursor()\n",
    "    cursor.execute(f'''CREATE TABLE IF NOT EXISTS {table_name} (\n",
    "                        user_id INTEGER PRIMARY KEY,\n",
    "                        user_text TEXT,\n",
    "                        detected_emotion TEXT\n",
    "                    )''')\n",
    "    conn.commit()\n",
    "    conn.close()\n",
    "    print(f\"Table '{table_name}' created in the SQLite database.\")\n",
    "\n",
    "# Main function\n",
    "def main():\n",
    "    # Path to the global model .pkl file\n",
    "    global_model_pkl_path = 'emotion_classifier_global_model.pkl'\n",
    "    \n",
    "    # Load global model\n",
    "    global_model = load_global_model(global_model_pkl_path)\n",
    "    \n",
    "    # List of client devices (for demonstration)\n",
    "    client_devices = [1, 2, 3]  # Replace with actual client device IDs\n",
    "    \n",
    "    # Distribute global model to client devices\n",
    "    distribute_model_to_clients(global_model, client_devices)\n",
    "    \n",
    "    # Path to the SQLite database file\n",
    "    database_path = 'user_model.db'\n",
    "    \n",
    "    # Create table in SQLite database for user emotion analysis\n",
    "    for device_id in client_devices:\n",
    "        table_name = 'user_model'+device_id\n",
    "        create_user_model_table(database_path, table_name)\n",
    "\n",
    "if __name__ == \"__main__\":\n",
    "    main()"
   ]
  },
  {
   "cell_type": "markdown",
   "metadata": {},
   "source": [
    "## Server Implementation"
   ]
  },
  {
   "cell_type": "code",
   "execution_count": null,
   "metadata": {},
   "outputs": [],
   "source": [
    "import sqlite3\n",
    "\n",
    "# Connect to SQLite database\n",
    "conn = sqlite3.connect('user_model.db')\n",
    "cursor = conn.cursor()\n",
    "\n",
    "# Function to aggregate user feedback and update global model\n",
    "def update_global_model():\n",
    "    # Query user feedback from database\n",
    "    cursor.execute(\"SELECT * FROM user_model\")\n",
    "    feedback_data = cursor.fetchall()\n",
    "    \n",
    "    # Aggregate feedback and update global model\n",
    "    aggregated_feedback = process_feedback(feedback_data)\n",
    "    global_model.update(aggregated_feedback)\n",
    "    \n",
    "    # Save updated global model to .pkl file\n",
    "    save_updated_model(global_model)\n",
    "\n",
    "# Function to save updated global model\n",
    "def save_updated_model(model):\n",
    "    # Save model to .pkl file\n",
    "    with open('updated_global_model.pkl', 'wb') as file:\n",
    "        pickle.dump(model, file)\n",
    "\n",
    "# Function to process and aggregate user feedback\n",
    "def process_feedback(feedback_data):\n",
    "    # Process feedback data to extract relevant information\n",
    "    # Aggregate feedback to update global model\n",
    "    aggregated_feedback = ...\n",
    "    return aggregated_feedback\n",
    "\n",
    "# Call update_global_model periodically\n",
    "while True:\n",
    "    # Update global model every 'n' days (adjust as needed)\n",
    "    time.sleep(n_days)\n",
    "    update_global_model()\n"
   ]
  },
  {
   "cell_type": "markdown",
   "metadata": {},
   "source": [
    "## Client Implementation"
   ]
  },
  {
   "cell_type": "code",
   "execution_count": null,
   "metadata": {},
   "outputs": [],
   "source": [
    "import pickle\n",
    "\n",
    "# Load global model from .pkl file\n",
    "with open('emotion_classifier_pipe_lr.pkl', 'rb') as file:\n",
    "    global_model = pickle.load(file)\n",
    "\n",
    "# Function to detect emotions from user text\n",
    "def detect_emotion(text):\n",
    "    # Use global model to predict emotion from text\n",
    "    emotion = global_model.predict(text)\n",
    "    return emotion\n",
    "\n",
    "# Function to receive user feedback and update local database\n",
    "def receive_feedback(user_id, feedback):\n",
    "    # Save user feedback to local database (e.g., SQLite)\n",
    "    save_feedback_to_database(user_id, feedback)\n",
    "\n",
    "# Main loop for user interaction\n",
    "while True:\n",
    "    # Get user input (text message)\n",
    "    text_message = input(\"Enter your text message: \")\n",
    "    \n",
    "    # Detect emotion from user text\n",
    "    emotion = detect_emotion(text_message)\n",
    "    \n",
    "    # Provide detected emotion to user (optional)\n",
    "    print(\"Detected emotion:\", emotion)\n",
    "    \n",
    "    # Receive user feedback\n",
    "    feedback = input(\"Provide feedback on the detected emotion (positive/negative): \")\n",
    "    \n",
    "    # Save user feedback to local database\n",
    "    receive_feedback(user_id, feedback)\n"
   ]
  },
  {
   "cell_type": "markdown",
   "metadata": {},
   "source": [
    "## Refernces\n",
    "\n",
    "1. https://www.tensorflow.org/federated/tutorials/building_your_own_federated_learning_algorithm\n",
    "2. https://github.com/microsoft/personalizedfl\n",
    "3. V. Tsouvalas, T. Ozcelebi and N. Meratnia, \"Privacy-preserving Speech Emotion Recognition through Semi-Supervised Federated Learning\", doi: 10.1109/PerComWorkshops53856.2022.9767445."
   ]
  }
 ],
 "metadata": {
  "kernelspec": {
   "display_name": "Python 3 (ipykernel)",
   "language": "python",
   "name": "python3"
  },
  "language_info": {
   "codemirror_mode": {
    "name": "ipython",
    "version": 3
   },
   "file_extension": ".py",
   "mimetype": "text/x-python",
   "name": "python",
   "nbconvert_exporter": "python",
   "pygments_lexer": "ipython3",
   "version": "3.11.7"
  }
 },
 "nbformat": 4,
 "nbformat_minor": 4
}
